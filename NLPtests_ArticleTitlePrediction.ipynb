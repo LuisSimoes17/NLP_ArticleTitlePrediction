{
 "cells": [
  {
   "cell_type": "markdown",
   "id": "9b80aeb1",
   "metadata": {},
   "source": [
    "# Imports"
   ]
  },
  {
   "cell_type": "code",
   "execution_count": 16,
   "id": "8c9643ac",
   "metadata": {},
   "outputs": [],
   "source": [
    "import pandas as pd\n",
    "import numpy as np\n",
    "from sklearn.feature_extraction.text import TfidfVectorizer, CountVectorizer\n",
    "from sklearn.linear_model import LogisticRegression\n",
    "from sklearn.naive_bayes import MultinomialNB\n",
    "from sklearn.metrics import accuracy_score\n",
    "from sklearn.model_selection import train_test_split, cross_val_score, GridSearchCV\n",
    "from sklearn.pipeline import Pipeline"
   ]
  },
  {
   "cell_type": "markdown",
   "id": "81bc16c0",
   "metadata": {},
   "source": [
    "# Parameters"
   ]
  },
  {
   "cell_type": "code",
   "execution_count": 2,
   "id": "aa612689",
   "metadata": {},
   "outputs": [],
   "source": [
    "train_data_path = 'train_data_challenge.csv'\n",
    "test_data_path = 'test_data_challenge.csv'\n",
    "\n",
    "feature_col = 'ArticleTitle'"
   ]
  },
  {
   "cell_type": "markdown",
   "id": "5f7f63ec",
   "metadata": {},
   "source": [
    "# Load Train & Test data"
   ]
  },
  {
   "cell_type": "code",
   "execution_count": 3,
   "id": "ddbb1437",
   "metadata": {
    "scrolled": true
   },
   "outputs": [
    {
     "data": {
      "text/html": [
       "<div>\n",
       "<style scoped>\n",
       "    .dataframe tbody tr th:only-of-type {\n",
       "        vertical-align: middle;\n",
       "    }\n",
       "\n",
       "    .dataframe tbody tr th {\n",
       "        vertical-align: top;\n",
       "    }\n",
       "\n",
       "    .dataframe thead th {\n",
       "        text-align: right;\n",
       "    }\n",
       "</style>\n",
       "<table border=\"1\" class=\"dataframe\">\n",
       "  <thead>\n",
       "    <tr style=\"text-align: right;\">\n",
       "      <th></th>\n",
       "      <th>ArticleTitle</th>\n",
       "      <th>Question</th>\n",
       "      <th>Answer</th>\n",
       "      <th>DifficultyFromQuestioner</th>\n",
       "      <th>DifficultyFromAnswerer</th>\n",
       "    </tr>\n",
       "  </thead>\n",
       "  <tbody>\n",
       "    <tr>\n",
       "      <th>0</th>\n",
       "      <td>Alessandro_Volta</td>\n",
       "      <td>Was Alessandro Volta a professor of chemistry?</td>\n",
       "      <td>Alessandro Volta was not a professor of chemis...</td>\n",
       "      <td>easy</td>\n",
       "      <td>easy</td>\n",
       "    </tr>\n",
       "    <tr>\n",
       "      <th>1</th>\n",
       "      <td>Alessandro_Volta</td>\n",
       "      <td>Was Alessandro Volta a professor of chemistry?</td>\n",
       "      <td>No</td>\n",
       "      <td>easy</td>\n",
       "      <td>hard</td>\n",
       "    </tr>\n",
       "    <tr>\n",
       "      <th>2</th>\n",
       "      <td>Alessandro_Volta</td>\n",
       "      <td>Did Alessandro Volta invent the remotely opera...</td>\n",
       "      <td>Alessandro Volta did invent the remotely opera...</td>\n",
       "      <td>easy</td>\n",
       "      <td>easy</td>\n",
       "    </tr>\n",
       "    <tr>\n",
       "      <th>3</th>\n",
       "      <td>Alessandro_Volta</td>\n",
       "      <td>Did Alessandro Volta invent the remotely opera...</td>\n",
       "      <td>Yes</td>\n",
       "      <td>easy</td>\n",
       "      <td>easy</td>\n",
       "    </tr>\n",
       "    <tr>\n",
       "      <th>4</th>\n",
       "      <td>Alessandro_Volta</td>\n",
       "      <td>Was Alessandro Volta taught in public schools?</td>\n",
       "      <td>Volta was taught in public schools.</td>\n",
       "      <td>easy</td>\n",
       "      <td>easy</td>\n",
       "    </tr>\n",
       "    <tr>\n",
       "      <th>...</th>\n",
       "      <td>...</td>\n",
       "      <td>...</td>\n",
       "      <td>...</td>\n",
       "      <td>...</td>\n",
       "      <td>...</td>\n",
       "    </tr>\n",
       "    <tr>\n",
       "      <th>3992</th>\n",
       "      <td>Woodrow_Wilson</td>\n",
       "      <td>What lived in Columbia?</td>\n",
       "      <td>Wilson</td>\n",
       "      <td>NaN</td>\n",
       "      <td>too hard</td>\n",
       "    </tr>\n",
       "    <tr>\n",
       "      <th>3993</th>\n",
       "      <td>Woodrow_Wilson</td>\n",
       "      <td>Was Wilson president of the American Political...</td>\n",
       "      <td>Yes</td>\n",
       "      <td>NaN</td>\n",
       "      <td>easy</td>\n",
       "    </tr>\n",
       "    <tr>\n",
       "      <th>3995</th>\n",
       "      <td>Woodrow_Wilson</td>\n",
       "      <td>Did Wilson not spend 1914 through the beginnin...</td>\n",
       "      <td>Yes</td>\n",
       "      <td>NaN</td>\n",
       "      <td>easy</td>\n",
       "    </tr>\n",
       "    <tr>\n",
       "      <th>3996</th>\n",
       "      <td>Woodrow_Wilson</td>\n",
       "      <td>Was Wilson , a staunch opponent of antisemitis...</td>\n",
       "      <td>Yes</td>\n",
       "      <td>NaN</td>\n",
       "      <td>easy</td>\n",
       "    </tr>\n",
       "    <tr>\n",
       "      <th>3997</th>\n",
       "      <td>Woodrow_Wilson</td>\n",
       "      <td>What happened in 1917?</td>\n",
       "      <td>raised billions through Liberty loans, imposed...</td>\n",
       "      <td>NaN</td>\n",
       "      <td>medium</td>\n",
       "    </tr>\n",
       "  </tbody>\n",
       "</table>\n",
       "<p>3642 rows × 5 columns</p>\n",
       "</div>"
      ],
      "text/plain": [
       "          ArticleTitle                                           Question  \\\n",
       "0     Alessandro_Volta     Was Alessandro Volta a professor of chemistry?   \n",
       "1     Alessandro_Volta     Was Alessandro Volta a professor of chemistry?   \n",
       "2     Alessandro_Volta  Did Alessandro Volta invent the remotely opera...   \n",
       "3     Alessandro_Volta  Did Alessandro Volta invent the remotely opera...   \n",
       "4     Alessandro_Volta     Was Alessandro Volta taught in public schools?   \n",
       "...                ...                                                ...   \n",
       "3992    Woodrow_Wilson                            What lived in Columbia?   \n",
       "3993    Woodrow_Wilson  Was Wilson president of the American Political...   \n",
       "3995    Woodrow_Wilson  Did Wilson not spend 1914 through the beginnin...   \n",
       "3996    Woodrow_Wilson  Was Wilson , a staunch opponent of antisemitis...   \n",
       "3997    Woodrow_Wilson                             What happened in 1917?   \n",
       "\n",
       "                                                 Answer  \\\n",
       "0     Alessandro Volta was not a professor of chemis...   \n",
       "1                                                    No   \n",
       "2     Alessandro Volta did invent the remotely opera...   \n",
       "3                                                   Yes   \n",
       "4                   Volta was taught in public schools.   \n",
       "...                                                 ...   \n",
       "3992                                             Wilson   \n",
       "3993                                                Yes   \n",
       "3995                                                Yes   \n",
       "3996                                                Yes   \n",
       "3997  raised billions through Liberty loans, imposed...   \n",
       "\n",
       "     DifficultyFromQuestioner DifficultyFromAnswerer  \n",
       "0                        easy                   easy  \n",
       "1                        easy                   hard  \n",
       "2                        easy                   easy  \n",
       "3                        easy                   easy  \n",
       "4                        easy                   easy  \n",
       "...                       ...                    ...  \n",
       "3992                      NaN               too hard  \n",
       "3993                      NaN                   easy  \n",
       "3995                      NaN                   easy  \n",
       "3996                      NaN                   easy  \n",
       "3997                      NaN                 medium  \n",
       "\n",
       "[3642 rows x 5 columns]"
      ]
     },
     "execution_count": 3,
     "metadata": {},
     "output_type": "execute_result"
    }
   ],
   "source": [
    "train_data = pd.read_csv(train_data_path, index_col=0)\n",
    "train_data"
   ]
  },
  {
   "cell_type": "code",
   "execution_count": 4,
   "id": "18d008ee",
   "metadata": {},
   "outputs": [
    {
     "data": {
      "text/html": [
       "<div>\n",
       "<style scoped>\n",
       "    .dataframe tbody tr th:only-of-type {\n",
       "        vertical-align: middle;\n",
       "    }\n",
       "\n",
       "    .dataframe tbody tr th {\n",
       "        vertical-align: top;\n",
       "    }\n",
       "\n",
       "    .dataframe thead th {\n",
       "        text-align: right;\n",
       "    }\n",
       "</style>\n",
       "<table border=\"1\" class=\"dataframe\">\n",
       "  <thead>\n",
       "    <tr style=\"text-align: right;\">\n",
       "      <th></th>\n",
       "      <th>ArticleTitle</th>\n",
       "      <th>Question</th>\n",
       "      <th>Answer</th>\n",
       "      <th>DifficultyFromQuestioner</th>\n",
       "      <th>DifficultyFromAnswerer</th>\n",
       "    </tr>\n",
       "  </thead>\n",
       "  <tbody>\n",
       "    <tr>\n",
       "      <th>6</th>\n",
       "      <td>Alessandro_Volta</td>\n",
       "      <td>Who did Alessandro Volta marry?</td>\n",
       "      <td>Alessandro Volta married Teresa Peregrini.</td>\n",
       "      <td>medium</td>\n",
       "      <td>medium</td>\n",
       "    </tr>\n",
       "    <tr>\n",
       "      <th>14</th>\n",
       "      <td>Alessandro_Volta</td>\n",
       "      <td>When did Alessandro Volta improve  and popular...</td>\n",
       "      <td>Alessandro Volta improved and popularized the ...</td>\n",
       "      <td>hard</td>\n",
       "      <td>hard</td>\n",
       "    </tr>\n",
       "    <tr>\n",
       "      <th>26</th>\n",
       "      <td>Alessandro_Volta</td>\n",
       "      <td>Where was Volta born?</td>\n",
       "      <td>Como</td>\n",
       "      <td>medium</td>\n",
       "      <td>medium</td>\n",
       "    </tr>\n",
       "    <tr>\n",
       "      <th>30</th>\n",
       "      <td>Alessandro_Volta</td>\n",
       "      <td>A year before improving and popularizing the e...</td>\n",
       "      <td>A professor of physics at the Royal School in ...</td>\n",
       "      <td>hard</td>\n",
       "      <td>hard</td>\n",
       "    </tr>\n",
       "    <tr>\n",
       "      <th>46</th>\n",
       "      <td>Amedeo_Avogadro</td>\n",
       "      <td>Was he a member of the Royal Superior Council ...</td>\n",
       "      <td>Yes</td>\n",
       "      <td>easy</td>\n",
       "      <td>easy</td>\n",
       "    </tr>\n",
       "    <tr>\n",
       "      <th>...</th>\n",
       "      <td>...</td>\n",
       "      <td>...</td>\n",
       "      <td>...</td>\n",
       "      <td>...</td>\n",
       "      <td>...</td>\n",
       "    </tr>\n",
       "    <tr>\n",
       "      <th>3938</th>\n",
       "      <td>Uruguay</td>\n",
       "      <td>Is Uruguay the smallest soverign nation in Sou...</td>\n",
       "      <td>No</td>\n",
       "      <td>hard</td>\n",
       "      <td>hard</td>\n",
       "    </tr>\n",
       "    <tr>\n",
       "      <th>3957</th>\n",
       "      <td>Woodrow_Wilson</td>\n",
       "      <td>Did the U.S. join the League of Nations?</td>\n",
       "      <td>No</td>\n",
       "      <td>easy</td>\n",
       "      <td>medium</td>\n",
       "    </tr>\n",
       "    <tr>\n",
       "      <th>3962</th>\n",
       "      <td>Woodrow_Wilson</td>\n",
       "      <td>Who was President when Wilson finished Congres...</td>\n",
       "      <td>Grover Cleveland</td>\n",
       "      <td>medium</td>\n",
       "      <td>medium</td>\n",
       "    </tr>\n",
       "    <tr>\n",
       "      <th>3969</th>\n",
       "      <td>Woodrow_Wilson</td>\n",
       "      <td>Was Wilson a member of the Phi Kappa Psi frate...</td>\n",
       "      <td>yes</td>\n",
       "      <td>easy</td>\n",
       "      <td>easy</td>\n",
       "    </tr>\n",
       "    <tr>\n",
       "      <th>3994</th>\n",
       "      <td>Woodrow_Wilson</td>\n",
       "      <td>Did he not cast his ballot for John M. Palmer ...</td>\n",
       "      <td>Yes</td>\n",
       "      <td>NaN</td>\n",
       "      <td>easy</td>\n",
       "    </tr>\n",
       "  </tbody>\n",
       "</table>\n",
       "<p>356 rows × 5 columns</p>\n",
       "</div>"
      ],
      "text/plain": [
       "          ArticleTitle                                           Question  \\\n",
       "6     Alessandro_Volta                    Who did Alessandro Volta marry?   \n",
       "14    Alessandro_Volta  When did Alessandro Volta improve  and popular...   \n",
       "26    Alessandro_Volta                              Where was Volta born?   \n",
       "30    Alessandro_Volta  A year before improving and popularizing the e...   \n",
       "46     Amedeo_Avogadro  Was he a member of the Royal Superior Council ...   \n",
       "...                ...                                                ...   \n",
       "3938           Uruguay  Is Uruguay the smallest soverign nation in Sou...   \n",
       "3957    Woodrow_Wilson           Did the U.S. join the League of Nations?   \n",
       "3962    Woodrow_Wilson  Who was President when Wilson finished Congres...   \n",
       "3969    Woodrow_Wilson  Was Wilson a member of the Phi Kappa Psi frate...   \n",
       "3994    Woodrow_Wilson  Did he not cast his ballot for John M. Palmer ...   \n",
       "\n",
       "                                                 Answer  \\\n",
       "6            Alessandro Volta married Teresa Peregrini.   \n",
       "14    Alessandro Volta improved and popularized the ...   \n",
       "26                                                 Como   \n",
       "30    A professor of physics at the Royal School in ...   \n",
       "46                                                  Yes   \n",
       "...                                                 ...   \n",
       "3938                                                 No   \n",
       "3957                                                 No   \n",
       "3962                                   Grover Cleveland   \n",
       "3969                                                yes   \n",
       "3994                                                Yes   \n",
       "\n",
       "     DifficultyFromQuestioner DifficultyFromAnswerer  \n",
       "6                      medium                 medium  \n",
       "14                       hard                   hard  \n",
       "26                     medium                 medium  \n",
       "30                       hard                   hard  \n",
       "46                       easy                   easy  \n",
       "...                       ...                    ...  \n",
       "3938                     hard                   hard  \n",
       "3957                     easy                 medium  \n",
       "3962                   medium                 medium  \n",
       "3969                     easy                   easy  \n",
       "3994                      NaN                   easy  \n",
       "\n",
       "[356 rows x 5 columns]"
      ]
     },
     "execution_count": 4,
     "metadata": {},
     "output_type": "execute_result"
    }
   ],
   "source": [
    "test_data = pd.read_csv(test_data_path, index_col=0)\n",
    "test_data"
   ]
  },
  {
   "cell_type": "markdown",
   "id": "1b40951f",
   "metadata": {},
   "source": [
    "## Summaries"
   ]
  },
  {
   "cell_type": "code",
   "execution_count": 5,
   "id": "d1cbae6d",
   "metadata": {},
   "outputs": [
    {
     "data": {
      "text/html": [
       "<div>\n",
       "<style scoped>\n",
       "    .dataframe tbody tr th:only-of-type {\n",
       "        vertical-align: middle;\n",
       "    }\n",
       "\n",
       "    .dataframe tbody tr th {\n",
       "        vertical-align: top;\n",
       "    }\n",
       "\n",
       "    .dataframe thead th {\n",
       "        text-align: right;\n",
       "    }\n",
       "</style>\n",
       "<table border=\"1\" class=\"dataframe\">\n",
       "  <thead>\n",
       "    <tr style=\"text-align: right;\">\n",
       "      <th></th>\n",
       "      <th>ArticleTitle</th>\n",
       "      <th>Question</th>\n",
       "      <th>Answer</th>\n",
       "      <th>DifficultyFromQuestioner</th>\n",
       "      <th>DifficultyFromAnswerer</th>\n",
       "    </tr>\n",
       "  </thead>\n",
       "  <tbody>\n",
       "    <tr>\n",
       "      <th>count</th>\n",
       "      <td>3642</td>\n",
       "      <td>3607</td>\n",
       "      <td>3121</td>\n",
       "      <td>2768</td>\n",
       "      <td>3119</td>\n",
       "    </tr>\n",
       "    <tr>\n",
       "      <th>unique</th>\n",
       "      <td>109</td>\n",
       "      <td>2357</td>\n",
       "      <td>1682</td>\n",
       "      <td>4</td>\n",
       "      <td>5</td>\n",
       "    </tr>\n",
       "    <tr>\n",
       "      <th>top</th>\n",
       "      <td>Amedeo_Avogadro</td>\n",
       "      <td>Was King Victor Emmanuel III there to pay homa...</td>\n",
       "      <td>Yes</td>\n",
       "      <td>medium</td>\n",
       "      <td>easy</td>\n",
       "    </tr>\n",
       "    <tr>\n",
       "      <th>freq</th>\n",
       "      <td>119</td>\n",
       "      <td>5</td>\n",
       "      <td>448</td>\n",
       "      <td>947</td>\n",
       "      <td>1240</td>\n",
       "    </tr>\n",
       "  </tbody>\n",
       "</table>\n",
       "</div>"
      ],
      "text/plain": [
       "           ArticleTitle                                           Question  \\\n",
       "count              3642                                               3607   \n",
       "unique              109                                               2357   \n",
       "top     Amedeo_Avogadro  Was King Victor Emmanuel III there to pay homa...   \n",
       "freq                119                                                  5   \n",
       "\n",
       "       Answer DifficultyFromQuestioner DifficultyFromAnswerer  \n",
       "count    3121                     2768                   3119  \n",
       "unique   1682                        4                      5  \n",
       "top       Yes                   medium                   easy  \n",
       "freq      448                      947                   1240  "
      ]
     },
     "execution_count": 5,
     "metadata": {},
     "output_type": "execute_result"
    }
   ],
   "source": [
    "train_data.describe()"
   ]
  },
  {
   "cell_type": "code",
   "execution_count": 6,
   "id": "470f344e",
   "metadata": {},
   "outputs": [
    {
     "data": {
      "text/html": [
       "<div>\n",
       "<style scoped>\n",
       "    .dataframe tbody tr th:only-of-type {\n",
       "        vertical-align: middle;\n",
       "    }\n",
       "\n",
       "    .dataframe tbody tr th {\n",
       "        vertical-align: top;\n",
       "    }\n",
       "\n",
       "    .dataframe thead th {\n",
       "        text-align: right;\n",
       "    }\n",
       "</style>\n",
       "<table border=\"1\" class=\"dataframe\">\n",
       "  <thead>\n",
       "    <tr style=\"text-align: right;\">\n",
       "      <th></th>\n",
       "      <th>ArticleTitle</th>\n",
       "      <th>Question</th>\n",
       "      <th>Answer</th>\n",
       "    </tr>\n",
       "  </thead>\n",
       "  <tbody>\n",
       "    <tr>\n",
       "      <th>count</th>\n",
       "      <td>3121</td>\n",
       "      <td>3121</td>\n",
       "      <td>3121</td>\n",
       "    </tr>\n",
       "    <tr>\n",
       "      <th>unique</th>\n",
       "      <td>107</td>\n",
       "      <td>2109</td>\n",
       "      <td>1682</td>\n",
       "    </tr>\n",
       "    <tr>\n",
       "      <th>top</th>\n",
       "      <td>Amedeo_Avogadro</td>\n",
       "      <td>What do river otters eat?</td>\n",
       "      <td>Yes</td>\n",
       "    </tr>\n",
       "    <tr>\n",
       "      <th>freq</th>\n",
       "      <td>78</td>\n",
       "      <td>4</td>\n",
       "      <td>448</td>\n",
       "    </tr>\n",
       "  </tbody>\n",
       "</table>\n",
       "</div>"
      ],
      "text/plain": [
       "           ArticleTitle                   Question Answer\n",
       "count              3121                       3121   3121\n",
       "unique              107                       2109   1682\n",
       "top     Amedeo_Avogadro  What do river otters eat?    Yes\n",
       "freq                 78                          4    448"
      ]
     },
     "execution_count": 6,
     "metadata": {},
     "output_type": "execute_result"
    }
   ],
   "source": [
    "train_data[['ArticleTitle', 'Question', 'Answer']].dropna().describe()"
   ]
  },
  {
   "cell_type": "code",
   "execution_count": 7,
   "id": "06461a87",
   "metadata": {},
   "outputs": [
    {
     "data": {
      "text/html": [
       "<div>\n",
       "<style scoped>\n",
       "    .dataframe tbody tr th:only-of-type {\n",
       "        vertical-align: middle;\n",
       "    }\n",
       "\n",
       "    .dataframe tbody tr th {\n",
       "        vertical-align: top;\n",
       "    }\n",
       "\n",
       "    .dataframe thead th {\n",
       "        text-align: right;\n",
       "    }\n",
       "</style>\n",
       "<table border=\"1\" class=\"dataframe\">\n",
       "  <thead>\n",
       "    <tr style=\"text-align: right;\">\n",
       "      <th></th>\n",
       "      <th>ArticleTitle</th>\n",
       "      <th>Question</th>\n",
       "      <th>Answer</th>\n",
       "      <th>DifficultyFromQuestioner</th>\n",
       "      <th>DifficultyFromAnswerer</th>\n",
       "    </tr>\n",
       "  </thead>\n",
       "  <tbody>\n",
       "    <tr>\n",
       "      <th>count</th>\n",
       "      <td>356</td>\n",
       "      <td>354</td>\n",
       "      <td>301</td>\n",
       "      <td>275</td>\n",
       "      <td>299</td>\n",
       "    </tr>\n",
       "    <tr>\n",
       "      <th>unique</th>\n",
       "      <td>107</td>\n",
       "      <td>342</td>\n",
       "      <td>179</td>\n",
       "      <td>3</td>\n",
       "      <td>5</td>\n",
       "    </tr>\n",
       "    <tr>\n",
       "      <th>top</th>\n",
       "      <td>Amedeo_Avogadro</td>\n",
       "      <td>Was he a member of the Royal Superior Council ...</td>\n",
       "      <td>Yes</td>\n",
       "      <td>hard</td>\n",
       "      <td>medium</td>\n",
       "    </tr>\n",
       "    <tr>\n",
       "      <th>freq</th>\n",
       "      <td>13</td>\n",
       "      <td>2</td>\n",
       "      <td>44</td>\n",
       "      <td>96</td>\n",
       "      <td>114</td>\n",
       "    </tr>\n",
       "  </tbody>\n",
       "</table>\n",
       "</div>"
      ],
      "text/plain": [
       "           ArticleTitle                                           Question  \\\n",
       "count               356                                                354   \n",
       "unique              107                                                342   \n",
       "top     Amedeo_Avogadro  Was he a member of the Royal Superior Council ...   \n",
       "freq                 13                                                  2   \n",
       "\n",
       "       Answer DifficultyFromQuestioner DifficultyFromAnswerer  \n",
       "count     301                      275                    299  \n",
       "unique    179                        3                      5  \n",
       "top       Yes                     hard                 medium  \n",
       "freq       44                       96                    114  "
      ]
     },
     "execution_count": 7,
     "metadata": {},
     "output_type": "execute_result"
    }
   ],
   "source": [
    "test_data.describe()"
   ]
  },
  {
   "cell_type": "code",
   "execution_count": 8,
   "id": "67d6b8c0",
   "metadata": {},
   "outputs": [
    {
     "data": {
      "text/html": [
       "<div>\n",
       "<style scoped>\n",
       "    .dataframe tbody tr th:only-of-type {\n",
       "        vertical-align: middle;\n",
       "    }\n",
       "\n",
       "    .dataframe tbody tr th {\n",
       "        vertical-align: top;\n",
       "    }\n",
       "\n",
       "    .dataframe thead th {\n",
       "        text-align: right;\n",
       "    }\n",
       "</style>\n",
       "<table border=\"1\" class=\"dataframe\">\n",
       "  <thead>\n",
       "    <tr style=\"text-align: right;\">\n",
       "      <th></th>\n",
       "      <th>ArticleTitle</th>\n",
       "      <th>Question</th>\n",
       "      <th>Answer</th>\n",
       "    </tr>\n",
       "  </thead>\n",
       "  <tbody>\n",
       "    <tr>\n",
       "      <th>count</th>\n",
       "      <td>301</td>\n",
       "      <td>301</td>\n",
       "      <td>301</td>\n",
       "    </tr>\n",
       "    <tr>\n",
       "      <th>unique</th>\n",
       "      <td>101</td>\n",
       "      <td>290</td>\n",
       "      <td>179</td>\n",
       "    </tr>\n",
       "    <tr>\n",
       "      <th>top</th>\n",
       "      <td>Alessandro_Volta</td>\n",
       "      <td>Does Portuguese contain words from the Arabic ...</td>\n",
       "      <td>Yes</td>\n",
       "    </tr>\n",
       "    <tr>\n",
       "      <th>freq</th>\n",
       "      <td>9</td>\n",
       "      <td>2</td>\n",
       "      <td>44</td>\n",
       "    </tr>\n",
       "  </tbody>\n",
       "</table>\n",
       "</div>"
      ],
      "text/plain": [
       "            ArticleTitle                                           Question  \\\n",
       "count                301                                                301   \n",
       "unique               101                                                290   \n",
       "top     Alessandro_Volta  Does Portuguese contain words from the Arabic ...   \n",
       "freq                   9                                                  2   \n",
       "\n",
       "       Answer  \n",
       "count     301  \n",
       "unique    179  \n",
       "top       Yes  \n",
       "freq       44  "
      ]
     },
     "execution_count": 8,
     "metadata": {},
     "output_type": "execute_result"
    }
   ],
   "source": [
    "test_data[['ArticleTitle', 'Question', 'Answer']].dropna().describe()"
   ]
  },
  {
   "cell_type": "markdown",
   "id": "a5a39633",
   "metadata": {},
   "source": [
    "## Split features"
   ]
  },
  {
   "cell_type": "code",
   "execution_count": 5,
   "id": "51b7c061",
   "metadata": {},
   "outputs": [
    {
     "data": {
      "text/html": [
       "<div>\n",
       "<style scoped>\n",
       "    .dataframe tbody tr th:only-of-type {\n",
       "        vertical-align: middle;\n",
       "    }\n",
       "\n",
       "    .dataframe tbody tr th {\n",
       "        vertical-align: top;\n",
       "    }\n",
       "\n",
       "    .dataframe thead th {\n",
       "        text-align: right;\n",
       "    }\n",
       "</style>\n",
       "<table border=\"1\" class=\"dataframe\">\n",
       "  <thead>\n",
       "    <tr style=\"text-align: right;\">\n",
       "      <th></th>\n",
       "      <th>Question</th>\n",
       "      <th>Answer</th>\n",
       "      <th>DifficultyFromQuestioner</th>\n",
       "      <th>DifficultyFromAnswerer</th>\n",
       "    </tr>\n",
       "  </thead>\n",
       "  <tbody>\n",
       "    <tr>\n",
       "      <th>0</th>\n",
       "      <td>Was Alessandro Volta a professor of chemistry?</td>\n",
       "      <td>Alessandro Volta was not a professor of chemis...</td>\n",
       "      <td>easy</td>\n",
       "      <td>easy</td>\n",
       "    </tr>\n",
       "    <tr>\n",
       "      <th>1</th>\n",
       "      <td>Was Alessandro Volta a professor of chemistry?</td>\n",
       "      <td>No</td>\n",
       "      <td>easy</td>\n",
       "      <td>hard</td>\n",
       "    </tr>\n",
       "    <tr>\n",
       "      <th>2</th>\n",
       "      <td>Did Alessandro Volta invent the remotely opera...</td>\n",
       "      <td>Alessandro Volta did invent the remotely opera...</td>\n",
       "      <td>easy</td>\n",
       "      <td>easy</td>\n",
       "    </tr>\n",
       "    <tr>\n",
       "      <th>3</th>\n",
       "      <td>Did Alessandro Volta invent the remotely opera...</td>\n",
       "      <td>Yes</td>\n",
       "      <td>easy</td>\n",
       "      <td>easy</td>\n",
       "    </tr>\n",
       "    <tr>\n",
       "      <th>4</th>\n",
       "      <td>Was Alessandro Volta taught in public schools?</td>\n",
       "      <td>Volta was taught in public schools.</td>\n",
       "      <td>easy</td>\n",
       "      <td>easy</td>\n",
       "    </tr>\n",
       "  </tbody>\n",
       "</table>\n",
       "</div>"
      ],
      "text/plain": [
       "                                            Question  \\\n",
       "0     Was Alessandro Volta a professor of chemistry?   \n",
       "1     Was Alessandro Volta a professor of chemistry?   \n",
       "2  Did Alessandro Volta invent the remotely opera...   \n",
       "3  Did Alessandro Volta invent the remotely opera...   \n",
       "4     Was Alessandro Volta taught in public schools?   \n",
       "\n",
       "                                              Answer DifficultyFromQuestioner  \\\n",
       "0  Alessandro Volta was not a professor of chemis...                     easy   \n",
       "1                                                 No                     easy   \n",
       "2  Alessandro Volta did invent the remotely opera...                     easy   \n",
       "3                                                Yes                     easy   \n",
       "4                Volta was taught in public schools.                     easy   \n",
       "\n",
       "  DifficultyFromAnswerer  \n",
       "0                   easy  \n",
       "1                   hard  \n",
       "2                   easy  \n",
       "3                   easy  \n",
       "4                   easy  "
      ]
     },
     "execution_count": 5,
     "metadata": {},
     "output_type": "execute_result"
    }
   ],
   "source": [
    "X_train = train_data[[x for x in train_data.columns if x != feature_col]]\n",
    "X_train.head()"
   ]
  },
  {
   "cell_type": "code",
   "execution_count": 6,
   "id": "1ff6fc69",
   "metadata": {
    "scrolled": true
   },
   "outputs": [
    {
     "data": {
      "text/plain": [
       "0    Alessandro_Volta\n",
       "1    Alessandro_Volta\n",
       "2    Alessandro_Volta\n",
       "3    Alessandro_Volta\n",
       "4    Alessandro_Volta\n",
       "Name: ArticleTitle, dtype: object"
      ]
     },
     "execution_count": 6,
     "metadata": {},
     "output_type": "execute_result"
    }
   ],
   "source": [
    "y_train = train_data[feature_col]\n",
    "y_train.head()"
   ]
  },
  {
   "cell_type": "code",
   "execution_count": 7,
   "id": "d21179f6",
   "metadata": {},
   "outputs": [
    {
     "data": {
      "text/html": [
       "<div>\n",
       "<style scoped>\n",
       "    .dataframe tbody tr th:only-of-type {\n",
       "        vertical-align: middle;\n",
       "    }\n",
       "\n",
       "    .dataframe tbody tr th {\n",
       "        vertical-align: top;\n",
       "    }\n",
       "\n",
       "    .dataframe thead th {\n",
       "        text-align: right;\n",
       "    }\n",
       "</style>\n",
       "<table border=\"1\" class=\"dataframe\">\n",
       "  <thead>\n",
       "    <tr style=\"text-align: right;\">\n",
       "      <th></th>\n",
       "      <th>Question</th>\n",
       "      <th>Answer</th>\n",
       "      <th>DifficultyFromQuestioner</th>\n",
       "      <th>DifficultyFromAnswerer</th>\n",
       "    </tr>\n",
       "  </thead>\n",
       "  <tbody>\n",
       "    <tr>\n",
       "      <th>6</th>\n",
       "      <td>Who did Alessandro Volta marry?</td>\n",
       "      <td>Alessandro Volta married Teresa Peregrini.</td>\n",
       "      <td>medium</td>\n",
       "      <td>medium</td>\n",
       "    </tr>\n",
       "    <tr>\n",
       "      <th>14</th>\n",
       "      <td>When did Alessandro Volta improve  and popular...</td>\n",
       "      <td>Alessandro Volta improved and popularized the ...</td>\n",
       "      <td>hard</td>\n",
       "      <td>hard</td>\n",
       "    </tr>\n",
       "    <tr>\n",
       "      <th>26</th>\n",
       "      <td>Where was Volta born?</td>\n",
       "      <td>Como</td>\n",
       "      <td>medium</td>\n",
       "      <td>medium</td>\n",
       "    </tr>\n",
       "    <tr>\n",
       "      <th>30</th>\n",
       "      <td>A year before improving and popularizing the e...</td>\n",
       "      <td>A professor of physics at the Royal School in ...</td>\n",
       "      <td>hard</td>\n",
       "      <td>hard</td>\n",
       "    </tr>\n",
       "    <tr>\n",
       "      <th>46</th>\n",
       "      <td>Was he a member of the Royal Superior Council ...</td>\n",
       "      <td>Yes</td>\n",
       "      <td>easy</td>\n",
       "      <td>easy</td>\n",
       "    </tr>\n",
       "  </tbody>\n",
       "</table>\n",
       "</div>"
      ],
      "text/plain": [
       "                                             Question  \\\n",
       "6                     Who did Alessandro Volta marry?   \n",
       "14  When did Alessandro Volta improve  and popular...   \n",
       "26                              Where was Volta born?   \n",
       "30  A year before improving and popularizing the e...   \n",
       "46  Was he a member of the Royal Superior Council ...   \n",
       "\n",
       "                                               Answer  \\\n",
       "6          Alessandro Volta married Teresa Peregrini.   \n",
       "14  Alessandro Volta improved and popularized the ...   \n",
       "26                                               Como   \n",
       "30  A professor of physics at the Royal School in ...   \n",
       "46                                                Yes   \n",
       "\n",
       "   DifficultyFromQuestioner DifficultyFromAnswerer  \n",
       "6                    medium                 medium  \n",
       "14                     hard                   hard  \n",
       "26                   medium                 medium  \n",
       "30                     hard                   hard  \n",
       "46                     easy                   easy  "
      ]
     },
     "execution_count": 7,
     "metadata": {},
     "output_type": "execute_result"
    }
   ],
   "source": [
    "X_test = test_data[[x for x in test_data.columns if x != feature_col]]\n",
    "X_test.head()"
   ]
  },
  {
   "cell_type": "code",
   "execution_count": 8,
   "id": "c8c2f9a6",
   "metadata": {},
   "outputs": [
    {
     "data": {
      "text/plain": [
       "6     Alessandro_Volta\n",
       "14    Alessandro_Volta\n",
       "26    Alessandro_Volta\n",
       "30    Alessandro_Volta\n",
       "46     Amedeo_Avogadro\n",
       "Name: ArticleTitle, dtype: object"
      ]
     },
     "execution_count": 8,
     "metadata": {},
     "output_type": "execute_result"
    }
   ],
   "source": [
    "y_test = test_data[feature_col]\n",
    "y_test.head()"
   ]
  },
  {
   "cell_type": "code",
   "execution_count": 5,
   "id": "580d05e9",
   "metadata": {},
   "outputs": [],
   "source": [
    "def split_feature_target(train_data, test_data):\n",
    "    \n",
    "    X_train = train_data[[x for x in train_data.columns if x != feature_col]]\n",
    "    y_train = train_data[feature_col]\n",
    "    X_test = test_data[[x for x in test_data.columns if x != feature_col]]\n",
    "    y_test = test_data[feature_col]\n",
    "    \n",
    "    return X_train, y_train, X_test, y_test"
   ]
  },
  {
   "cell_type": "markdown",
   "id": "b04a8114",
   "metadata": {},
   "source": [
    "# Feature Selection"
   ]
  },
  {
   "cell_type": "code",
   "execution_count": 6,
   "id": "f01737e7",
   "metadata": {},
   "outputs": [],
   "source": [
    "def featSel_Q(train_data, test_data):\n",
    "    \n",
    "    # Remove nulls\n",
    "    train_data = train_data[['Question', feature_col]].dropna()\n",
    "    test_data = test_data[['Question', feature_col]].dropna()\n",
    "    \n",
    "    # Split between features and target\n",
    "    X_train, y_train, X_test, y_test = split_feature_target(train_data, test_data)\n",
    "    \n",
    "    # Use only question\n",
    "    X_train = X_train['Question']\n",
    "    X_test = X_test['Question']\n",
    "    \n",
    "    return X_train, y_train, X_test, y_test"
   ]
  },
  {
   "cell_type": "code",
   "execution_count": 7,
   "id": "85efb5db",
   "metadata": {},
   "outputs": [],
   "source": [
    "def featSel_QA(train_data, test_data):\n",
    "    \n",
    "    # Remove nulls\n",
    "    train_data = train_data[['Question','Answer', feature_col]].dropna()\n",
    "    test_data = test_data[['Question','Answer', feature_col]].dropna()\n",
    "    \n",
    "    # Split between features and target\n",
    "    X_train, y_train, X_test, y_test = split_feature_target(train_data, test_data)\n",
    "    \n",
    "    # Combine Question and Answer into 1 sentence\n",
    "    X_train = X_train['Question'] + \" \" + X_train['Answer']\n",
    "    X_test = X_test['Question'] + \" \" + X_test['Answer']\n",
    "    \n",
    "    return X_train, y_train, X_test, y_test"
   ]
  },
  {
   "cell_type": "code",
   "execution_count": 8,
   "id": "912faddb",
   "metadata": {},
   "outputs": [],
   "source": [
    "def featSel_QA_splitArticlTitle(train_data, test_data):\n",
    "    \n",
    "    # Remove nulls\n",
    "    train_data = train_data[['Question','Answer', feature_col]].dropna()\n",
    "    test_data = test_data[['Question','Answer', feature_col]].dropna()\n",
    "    \n",
    "    # Split between features and target\n",
    "    X_train, y_train, X_test, y_test = split_feature_target(train_data, test_data)\n",
    "    \n",
    "    # Combine Question and Answer into 1 sentence\n",
    "    X_train = X_train['Question'] + \" \" + X_train['Answer']\n",
    "    X_test = X_test['Question'] + \" \" + X_test['Answer']\n",
    "    \n",
    "    # replace '_' with ' ', so that tokenization works better\n",
    "    y_train = y_train.str.replace(\"_\", \" \")\n",
    "    y_test = y_test.str.replace(\"_\", \" \")\n",
    "    \n",
    "    return X_train, y_train, X_test, y_test"
   ]
  },
  {
   "cell_type": "markdown",
   "id": "19acdac2",
   "metadata": {},
   "source": [
    "# Pre-Processing"
   ]
  },
  {
   "cell_type": "code",
   "execution_count": 9,
   "id": "90f77e13",
   "metadata": {},
   "outputs": [],
   "source": [
    "def preprocess_1(X_train, y_train, X_test, y_test, lowercase=True, ngram_range=(1,1)):\n",
    "    \n",
    "    # scikit-learn module to tokenize, counts term frequencies and normalize text data\n",
    "    vectorizer = TfidfVectorizer(lowercase=lowercase, ngram_range=ngram_range)\n",
    "    X_train_vec = vectorizer.fit_transform(X_train)\n",
    "    X_test_vec = vectorizer.transform(X_test)\n",
    "    \n",
    "    return X_train_vec, X_test_vec"
   ]
  },
  {
   "cell_type": "code",
   "execution_count": 10,
   "id": "67270ad5",
   "metadata": {},
   "outputs": [],
   "source": [
    "def preprocess_2(X_train, y_train, X_test, y_test, lowercase=True, ngram_range=(1,1)):\n",
    "    \n",
    "    # scikit-learn module to tokenize, counts term frequencies and normalize text data\n",
    "    vectorizer = CountVectorizer(lowercase=lowercase, ngram_range=ngram_range)\n",
    "    X_train_vec = vectorizer.fit_transform(X_train)\n",
    "    X_test_vec = vectorizer.transform(X_test)\n",
    "    \n",
    "    return X_train_vec, X_test_vec"
   ]
  },
  {
   "cell_type": "markdown",
   "id": "90d62eff",
   "metadata": {},
   "source": [
    "# Model"
   ]
  },
  {
   "cell_type": "code",
   "execution_count": 11,
   "id": "df54b09c",
   "metadata": {},
   "outputs": [],
   "source": [
    "def model_LogReg(X_train_vec, y_train, X_test_vec, y_test, accuracy=True, C=1.0, class_weight=None):\n",
    "    \n",
    "    #Scikit learn logistic regression classifier\n",
    "    model = LogisticRegression(C=C, class_weight=class_weight)\n",
    "    model.fit(X_train_vec, y_train)\n",
    "    \n",
    "    y_pred = model.predict(X_test_vec)\n",
    "    if accuracy:\n",
    "        print(\"Accuracy:\", accuracy_score(y_test, y_pred))\n",
    "    \n",
    "    return model, y_pred"
   ]
  },
  {
   "cell_type": "code",
   "execution_count": 12,
   "id": "ad510e95",
   "metadata": {},
   "outputs": [],
   "source": [
    "def model_NaiveBayes(X_train_vec, y_train, X_test_vec, y_test, accuracy=True):\n",
    "    \n",
    "    #Scikit learn logistic naive bayes classifier\n",
    "    model = MultinomialNB()\n",
    "    model.fit(X_train_vec, y_train)\n",
    "    \n",
    "    y_pred = model.predict(X_test_vec)\n",
    "    if accuracy:\n",
    "        print(\"Accuracy:\", accuracy_score(y_test, y_pred))\n",
    "    \n",
    "    return model, y_pred"
   ]
  },
  {
   "cell_type": "markdown",
   "id": "38b601ec",
   "metadata": {},
   "source": [
    "# Tests"
   ]
  },
  {
   "cell_type": "code",
   "execution_count": 21,
   "id": "07a6df81",
   "metadata": {},
   "outputs": [
    {
     "name": "stdout",
     "output_type": "stream",
     "text": [
      "Accuracy: 0.8135593220338984\n"
     ]
    }
   ],
   "source": [
    "# Using only questions\n",
    "X_train, y_train, X_test, y_test = featSel_Q(train_data, test_data)\n",
    "X_train_vec, X_test_vec = preprocess_1(X_train, y_train, X_test, y_test)\n",
    "model,_ = model_LogReg(X_train_vec, y_train, X_test_vec, y_test)"
   ]
  },
  {
   "cell_type": "code",
   "execution_count": 22,
   "id": "adf3bd22",
   "metadata": {},
   "outputs": [
    {
     "name": "stdout",
     "output_type": "stream",
     "text": [
      "Accuracy: 0.8604651162790697\n"
     ]
    }
   ],
   "source": [
    "# Using questions and answers\n",
    "X_train, y_train, X_test, y_test = featSel_QA(train_data, test_data)\n",
    "X_train_vec, X_test_vec = preprocess_1(X_train, y_train, X_test, y_test)\n",
    "model,_ = model_LogReg(X_train_vec, y_train, X_test_vec, y_test)"
   ]
  },
  {
   "cell_type": "code",
   "execution_count": 23,
   "id": "cdaa12b5",
   "metadata": {},
   "outputs": [
    {
     "name": "stdout",
     "output_type": "stream",
     "text": [
      "Accuracy: 0.8471760797342193\n"
     ]
    }
   ],
   "source": [
    "# Using questions and answers and Uppercase\n",
    "X_train, y_train, X_test, y_test = featSel_QA(train_data, test_data)\n",
    "X_train_vec, X_test_vec = preprocess_1(X_train, y_train, X_test, y_test, lowercase=False)\n",
    "model,_ = model_LogReg(X_train_vec, y_train, X_test_vec, y_test)"
   ]
  },
  {
   "cell_type": "markdown",
   "id": "c8949a8d",
   "metadata": {},
   "source": [
    "Setting lower case to false means that the words are not converted to lowercase before tokenization. The reasoning behind was that maybe it would better get article titles with person names or acronyms, but seems that it only confuses more the classifier."
   ]
  },
  {
   "cell_type": "code",
   "execution_count": 24,
   "id": "788d8a0c",
   "metadata": {},
   "outputs": [
    {
     "name": "stdout",
     "output_type": "stream",
     "text": [
      "Accuracy: 0.8438538205980066\n"
     ]
    }
   ],
   "source": [
    "# Using questions and answers and considering also bigrams\n",
    "X_train, y_train, X_test, y_test = featSel_QA(train_data, test_data)\n",
    "X_train_vec, X_test_vec = preprocess_1(X_train, y_train, X_test, y_test, ngram_range=(1,2))\n",
    "model,_ = model_LogReg(X_train_vec, y_train, X_test_vec, y_test)"
   ]
  },
  {
   "cell_type": "markdown",
   "id": "5ee623b3",
   "metadata": {},
   "source": [
    "The idea was that many of the article titles contain 2 words, so would be easy for the algorithm to predict the title if it also took into consideration context (not only isolated words). Nevertheless, as in the lowercase tentative, the performance does not increase possibly because the training set is not very big and both approaches make the feature vectors bigger."
   ]
  },
  {
   "cell_type": "code",
   "execution_count": 25,
   "id": "539213e6",
   "metadata": {},
   "outputs": [
    {
     "name": "stdout",
     "output_type": "stream",
     "text": [
      "Accuracy: 0.6710963455149501\n"
     ]
    }
   ],
   "source": [
    "# Using questions and answers now with Naive Bayes\n",
    "X_train, y_train, X_test, y_test = featSel_QA(train_data, test_data)\n",
    "X_train_vec, X_test_vec = preprocess_1(X_train, y_train, X_test, y_test)\n",
    "model,_ = model_NaiveBayes(X_train_vec, y_train, X_test_vec, y_test)"
   ]
  },
  {
   "cell_type": "code",
   "execution_count": 26,
   "id": "eccc319c",
   "metadata": {},
   "outputs": [
    {
     "name": "stdout",
     "output_type": "stream",
     "text": [
      "Accuracy: 0.6777408637873754\n"
     ]
    }
   ],
   "source": [
    "# Using questions and answers now with Naive Bayes and considering also bigrams\n",
    "X_train, y_train, X_test, y_test = featSel_QA(train_data, test_data)\n",
    "X_train_vec, X_test_vec = preprocess_1(X_train, y_train, X_test, y_test, ngram_range=(1,2))\n",
    "model,_ = model_NaiveBayes(X_train_vec, y_train, X_test_vec, y_test)"
   ]
  },
  {
   "cell_type": "code",
   "execution_count": 27,
   "id": "739050e4",
   "metadata": {},
   "outputs": [
    {
     "name": "stdout",
     "output_type": "stream",
     "text": [
      "Accuracy: 0.7242524916943521\n"
     ]
    }
   ],
   "source": [
    "# Using questions and answers now with Naive Bayes and considering also bigrams (with counts instead of tf-idf)\n",
    "X_train, y_train, X_test, y_test = featSel_QA(train_data, test_data)\n",
    "X_train_vec, X_test_vec = preprocess_2(X_train, y_train, X_test, y_test, ngram_range=(1,1))\n",
    "model,_ = model_NaiveBayes(X_train_vec, y_train, X_test_vec, y_test)"
   ]
  },
  {
   "cell_type": "markdown",
   "id": "936668b9",
   "metadata": {},
   "source": [
    "Naive Bayes can perform better with word counts instead of tf-idf in some cases, it's possible that this dataset since it's questions and answers (small texts) do not require the inverse document frequency normalization. Let's then select the best ngram_range with a validation set"
   ]
  },
  {
   "cell_type": "code",
   "execution_count": 28,
   "id": "d4aa0b81",
   "metadata": {},
   "outputs": [
    {
     "name": "stdout",
     "output_type": "stream",
     "text": [
      "Validation Accuracy for ngram_range=(1,1): 0.6768\n",
      "Validation Accuracy for ngram_range=(1,2): 0.7312\n",
      "Validation Accuracy for ngram_range=(1,3): 0.7424\n",
      "Validation Accuracy for ngram_range=(1,4): 0.7456\n",
      "Validation Accuracy for ngram_range=(1,5): 0.7408\n",
      "Validation Accuracy for ngram_range=(1,6): 0.736\n",
      "Best ngram_range: (1, 4)\n",
      "Accuracy: 0.8106312292358804\n"
     ]
    }
   ],
   "source": [
    "# Using questions and answers now with Naive Bayes choosing ngram with validation set (with counts instead of tf-idf)\n",
    "X_train, y_train, X_test, y_test = featSel_QA(train_data, test_data)\n",
    "\n",
    "# Split the training set into train and valitdation\n",
    "X_train_new, X_val, y_train_new, y_val = train_test_split(X_train, y_train, test_size=0.2, random_state=42)\n",
    "\n",
    "best_ngram_range = None\n",
    "best_accuracy = 0.0\n",
    "\n",
    "for n in range(1, 7):  # Let's try with 1 to 6\n",
    "    # Vectorize train and val set\n",
    "    X_train_vec, X_val_vec = preprocess_2(X_train_new, y_train_new, X_val, y_val, ngram_range=(1,n))\n",
    "    \n",
    "    model, y_pred = model_NaiveBayes(X_train_vec, y_train_new, X_val_vec, y_val, accuracy=False)\n",
    "    \n",
    "    y_val_pred = model.predict(X_val_vec)\n",
    "    accuracy = accuracy_score(y_val, y_val_pred)\n",
    "    \n",
    "    print(f\"Validation Accuracy for ngram_range=(1,{n}):\", accuracy)\n",
    "    \n",
    "    if accuracy > best_accuracy:\n",
    "        best_accuracy = accuracy\n",
    "        best_ngram_range = (1, n)\n",
    "        \n",
    "print(\"Best ngram_range:\", best_ngram_range)\n",
    "# Train now on the entire training set with the best parameters and test on the test set\n",
    "X_train_vec, X_test_vec = preprocess_2(X_train, y_train, X_test, y_test, ngram_range=best_ngram_range)\n",
    "model,_ = model_NaiveBayes(X_train_vec, y_train, X_test_vec, y_test)"
   ]
  },
  {
   "cell_type": "markdown",
   "id": "a557e78b",
   "metadata": {},
   "source": [
    "We now got an accuracy >80% with naive bayes. Also to note that the accuracy on the validation set is much lower than on the test set which might indicate that with more samples we could improve even more the model.\n",
    "Naive Bayes is still performing worse than our previous result with logistic regression, but since counting tokens instead of the if-idf approach improves so much the bayes accuracy, let's try the same for the logistic regression"
   ]
  },
  {
   "cell_type": "code",
   "execution_count": 29,
   "id": "63c6b504",
   "metadata": {},
   "outputs": [
    {
     "name": "stdout",
     "output_type": "stream",
     "text": [
      "Validation Accuracy for ngram_range=(1,1): 0.8528\n",
      "Validation Accuracy for ngram_range=(1,2): 0.8528\n",
      "Validation Accuracy for ngram_range=(1,3): 0.8416\n",
      "Validation Accuracy for ngram_range=(1,4): 0.8368\n",
      "Best ngram_range: (1, 1)\n",
      "Accuracy: 0.8870431893687708\n"
     ]
    }
   ],
   "source": [
    "# Using questions and answers with Logistic Regression choosing ngram with validation set (with counts instead of tf-idf)\n",
    "X_train, y_train, X_test, y_test = featSel_QA(train_data, test_data)\n",
    "\n",
    "# Split the training set into train and valitdation\n",
    "X_train_new, X_val, y_train_new, y_val = train_test_split(X_train, y_train, test_size=0.2, random_state=42)\n",
    "\n",
    "best_ngram_range = None\n",
    "best_accuracy = 0.0\n",
    "\n",
    "for n in range(1, 5):  # Let's try with 1 to 4\n",
    "    # Vectorize train and val set\n",
    "    X_train_vec, X_val_vec = preprocess_2(X_train_new, y_train_new, X_val, y_val, ngram_range=(1,n))\n",
    "    \n",
    "    model, y_pred = model_LogReg(X_train_vec, y_train_new, X_val_vec, y_val, accuracy=False)\n",
    "    \n",
    "    y_val_pred = model.predict(X_val_vec)\n",
    "    accuracy = accuracy_score(y_val, y_val_pred)\n",
    "    \n",
    "    print(f\"Validation Accuracy for ngram_range=(1,{n}):\", accuracy)\n",
    "    \n",
    "    if accuracy > best_accuracy:\n",
    "        best_accuracy = accuracy\n",
    "        best_ngram_range = (1, n)\n",
    "        \n",
    "print(\"Best ngram_range:\", best_ngram_range)\n",
    "# Train now on the entire training set with the best parameters and test on the test set\n",
    "X_train_vec, X_test_vec = preprocess_2(X_train, y_train, X_test, y_test, ngram_range=best_ngram_range)\n",
    "model,_ = model_LogReg(X_train_vec, y_train, X_test_vec, y_test)"
   ]
  },
  {
   "cell_type": "markdown",
   "id": "37e9a38b",
   "metadata": {},
   "source": [
    "## Best model tests"
   ]
  },
  {
   "cell_type": "markdown",
   "id": "cb3272f6",
   "metadata": {},
   "source": [
    "The idea here is to try to understand the misses"
   ]
  },
  {
   "cell_type": "code",
   "execution_count": 14,
   "id": "1fea358c",
   "metadata": {},
   "outputs": [
    {
     "name": "stdout",
     "output_type": "stream",
     "text": [
      "Accuracy: 0.8870431893687708\n"
     ]
    }
   ],
   "source": [
    "# Using questions and answers\n",
    "X_train, y_train, X_test, y_test = featSel_QA(train_data, test_data)\n",
    "X_train_vec, X_test_vec = preprocess_2(X_train, y_train, X_test, y_test)\n",
    "best_model, y_pred = model_LogReg(X_train_vec, y_train, X_test_vec, y_test)"
   ]
  },
  {
   "cell_type": "code",
   "execution_count": 31,
   "id": "f9e3e85f",
   "metadata": {},
   "outputs": [
    {
     "name": "stderr",
     "output_type": "stream",
     "text": [
      "<ipython-input-31-4029678cd522>:6: SettingWithCopyWarning: \n",
      "A value is trying to be set on a copy of a slice from a DataFrame.\n",
      "Try using .loc[row_indexer,col_indexer] = value instead\n",
      "\n",
      "See the caveats in the documentation: https://pandas.pydata.org/pandas-docs/stable/user_guide/indexing.html#returning-a-view-versus-a-copy\n",
      "  test_data_misses['Prediction'] = y_pred[difference]\n"
     ]
    },
    {
     "data": {
      "text/html": [
       "<div>\n",
       "<style scoped>\n",
       "    .dataframe tbody tr th:only-of-type {\n",
       "        vertical-align: middle;\n",
       "    }\n",
       "\n",
       "    .dataframe tbody tr th {\n",
       "        vertical-align: top;\n",
       "    }\n",
       "\n",
       "    .dataframe thead th {\n",
       "        text-align: right;\n",
       "    }\n",
       "</style>\n",
       "<table border=\"1\" class=\"dataframe\">\n",
       "  <thead>\n",
       "    <tr style=\"text-align: right;\">\n",
       "      <th></th>\n",
       "      <th>ArticleTitle</th>\n",
       "      <th>Question</th>\n",
       "      <th>Answer</th>\n",
       "      <th>DifficultyFromQuestioner</th>\n",
       "      <th>DifficultyFromAnswerer</th>\n",
       "      <th>Prediction</th>\n",
       "    </tr>\n",
       "  </thead>\n",
       "  <tbody>\n",
       "    <tr>\n",
       "      <th>46</th>\n",
       "      <td>Amedeo_Avogadro</td>\n",
       "      <td>Was he a member of the Royal Superior Council ...</td>\n",
       "      <td>Yes</td>\n",
       "      <td>easy</td>\n",
       "      <td>easy</td>\n",
       "      <td>Michael_Faraday</td>\n",
       "    </tr>\n",
       "    <tr>\n",
       "      <th>47</th>\n",
       "      <td>Amedeo_Avogadro</td>\n",
       "      <td>Was he a member of the Royal Superior Council ...</td>\n",
       "      <td>Yes,  Avogadro was a member of the Royal Super...</td>\n",
       "      <td>easy</td>\n",
       "      <td>easy</td>\n",
       "      <td>Michael_Faraday</td>\n",
       "    </tr>\n",
       "    <tr>\n",
       "      <th>117</th>\n",
       "      <td>Ant</td>\n",
       "      <td>Are termites actually more closely related to ...</td>\n",
       "      <td>Yes, termites are actually more closely relate...</td>\n",
       "      <td>NaN</td>\n",
       "      <td>easy</td>\n",
       "      <td>Dragonfly</td>\n",
       "    </tr>\n",
       "    <tr>\n",
       "      <th>192</th>\n",
       "      <td>Berlin</td>\n",
       "      <td>Does the Gendarmenmarkt border the French Cath...</td>\n",
       "      <td>Yes, the Gendarmenmarkt borders the French Cat...</td>\n",
       "      <td>easy</td>\n",
       "      <td>medium</td>\n",
       "      <td>French_language</td>\n",
       "    </tr>\n",
       "    <tr>\n",
       "      <th>627</th>\n",
       "      <td>Jackson_Pollock</td>\n",
       "      <td>Give an example of the origins of the term act...</td>\n",
       "      <td>Pollock's technique of pouring and dripping pa...</td>\n",
       "      <td>NaN</td>\n",
       "      <td>medium</td>\n",
       "      <td>Cymbal</td>\n",
       "    </tr>\n",
       "  </tbody>\n",
       "</table>\n",
       "</div>"
      ],
      "text/plain": [
       "        ArticleTitle                                           Question  \\\n",
       "46   Amedeo_Avogadro  Was he a member of the Royal Superior Council ...   \n",
       "47   Amedeo_Avogadro  Was he a member of the Royal Superior Council ...   \n",
       "117              Ant  Are termites actually more closely related to ...   \n",
       "192           Berlin  Does the Gendarmenmarkt border the French Cath...   \n",
       "627  Jackson_Pollock  Give an example of the origins of the term act...   \n",
       "\n",
       "                                                Answer  \\\n",
       "46                                                 Yes   \n",
       "47   Yes,  Avogadro was a member of the Royal Super...   \n",
       "117  Yes, termites are actually more closely relate...   \n",
       "192  Yes, the Gendarmenmarkt borders the French Cat...   \n",
       "627  Pollock's technique of pouring and dripping pa...   \n",
       "\n",
       "    DifficultyFromQuestioner DifficultyFromAnswerer       Prediction  \n",
       "46                      easy                   easy  Michael_Faraday  \n",
       "47                      easy                   easy  Michael_Faraday  \n",
       "117                      NaN                   easy        Dragonfly  \n",
       "192                     easy                 medium  French_language  \n",
       "627                      NaN                 medium           Cymbal  "
      ]
     },
     "execution_count": 31,
     "metadata": {},
     "output_type": "execute_result"
    }
   ],
   "source": [
    "# boolean array that is True when prediction doesnt match ground truth\n",
    "difference = y_test != y_pred\n",
    "\n",
    "# Create df with misses (to try to understand them)\n",
    "test_data_misses = test_data[test_data.index.isin(difference[difference].index)]\n",
    "test_data_misses['Prediction'] = y_pred[difference]\n",
    "test_data_misses.to_csv('test_data_misses.csv')\n",
    "test_data_misses.head()"
   ]
  },
  {
   "cell_type": "markdown",
   "id": "41db7f96",
   "metadata": {},
   "source": [
    "Differenciating between question and answer probably would have some impact, since the algorithm right now can make no sense of the answer \"yes\" or \"no\" for example. Also, the accuracy is already considerable with the amount of samples we have, would also be good to be able to use n_grams or other forms of giving context to words but that would require a bigger dataset since the feature vector becomes larger."
   ]
  },
  {
   "cell_type": "markdown",
   "id": "122b4b85",
   "metadata": {},
   "source": [
    "## Cross Validation Tests"
   ]
  },
  {
   "cell_type": "code",
   "execution_count": 15,
   "id": "1a1f6270",
   "metadata": {},
   "outputs": [
    {
     "name": "stdout",
     "output_type": "stream",
     "text": [
      "Train Accuracy: 0.9990387696251202\n",
      "Test Accuracy: 0.8870431893687708\n"
     ]
    }
   ],
   "source": [
    "# using the best model so far\n",
    "X_train, y_train, X_test, y_test = featSel_QA(train_data, test_data)\n",
    "X_train_vec, X_test_vec = preprocess_2(X_train, y_train, X_test, y_test)\n",
    "\n",
    "# predict train & test labels\n",
    "y_train_pred = best_model.predict(X_train_vec)\n",
    "y_test_pred = best_model.predict(X_test_vec)\n",
    "\n",
    "# compute accuracies\n",
    "print(\"Train Accuracy:\", accuracy_score(y_train, y_train_pred))\n",
    "print(\"Test Accuracy:\", accuracy_score(y_test, y_test_pred))"
   ]
  },
  {
   "cell_type": "markdown",
   "id": "1937ab74",
   "metadata": {},
   "source": [
    "This means that we might be overfitting the data, let's then play with the regularization parameter"
   ]
  },
  {
   "cell_type": "code",
   "execution_count": 43,
   "id": "4d81e61d",
   "metadata": {},
   "outputs": [
    {
     "name": "stdout",
     "output_type": "stream",
     "text": [
      "Fitting 4 folds for each of 12 candidates, totalling 48 fits\n"
     ]
    },
    {
     "name": "stderr",
     "output_type": "stream",
     "text": [
      "C:\\Users\\ldoutors\\Anaconda3\\lib\\site-packages\\sklearn\\model_selection\\_split.py:666: UserWarning: The least populated class in y has only 1 members, which is less than n_splits=4.\n",
      "  warnings.warn((\"The least populated class in y has only %d\"\n"
     ]
    },
    {
     "name": "stdout",
     "output_type": "stream",
     "text": [
      "[CV 1/4] END classifier__C=1, classifier__class_weight=None, vectorizer__ngram_range=(1, 1); total time=   4.5s\n",
      "[CV 2/4] END classifier__C=1, classifier__class_weight=None, vectorizer__ngram_range=(1, 1); total time=   3.9s\n",
      "[CV 3/4] END classifier__C=1, classifier__class_weight=None, vectorizer__ngram_range=(1, 1); total time=   4.0s\n",
      "[CV 4/4] END classifier__C=1, classifier__class_weight=None, vectorizer__ngram_range=(1, 1); total time=   3.7s\n",
      "[CV 1/4] END classifier__C=1, classifier__class_weight=None, vectorizer__ngram_range=(1, 2); total time=  17.0s\n",
      "[CV 2/4] END classifier__C=1, classifier__class_weight=None, vectorizer__ngram_range=(1, 2); total time=  15.3s\n",
      "[CV 3/4] END classifier__C=1, classifier__class_weight=None, vectorizer__ngram_range=(1, 2); total time=  15.6s\n",
      "[CV 4/4] END classifier__C=1, classifier__class_weight=None, vectorizer__ngram_range=(1, 2); total time=  13.3s\n",
      "[CV 1/4] END classifier__C=1, classifier__class_weight=balanced, vectorizer__ngram_range=(1, 1); total time=   4.6s\n",
      "[CV 2/4] END classifier__C=1, classifier__class_weight=balanced, vectorizer__ngram_range=(1, 1); total time=   4.8s\n",
      "[CV 3/4] END classifier__C=1, classifier__class_weight=balanced, vectorizer__ngram_range=(1, 1); total time=   4.6s\n",
      "[CV 4/4] END classifier__C=1, classifier__class_weight=balanced, vectorizer__ngram_range=(1, 1); total time=   4.0s\n",
      "[CV 1/4] END classifier__C=1, classifier__class_weight=balanced, vectorizer__ngram_range=(1, 2); total time=  18.7s\n",
      "[CV 2/4] END classifier__C=1, classifier__class_weight=balanced, vectorizer__ngram_range=(1, 2); total time=  14.7s\n",
      "[CV 3/4] END classifier__C=1, classifier__class_weight=balanced, vectorizer__ngram_range=(1, 2); total time=  15.1s\n",
      "[CV 4/4] END classifier__C=1, classifier__class_weight=balanced, vectorizer__ngram_range=(1, 2); total time=  12.1s\n",
      "[CV 1/4] END classifier__C=0.1, classifier__class_weight=None, vectorizer__ngram_range=(1, 1); total time=   3.9s\n",
      "[CV 2/4] END classifier__C=0.1, classifier__class_weight=None, vectorizer__ngram_range=(1, 1); total time=   4.2s\n",
      "[CV 3/4] END classifier__C=0.1, classifier__class_weight=None, vectorizer__ngram_range=(1, 1); total time=   4.4s\n",
      "[CV 4/4] END classifier__C=0.1, classifier__class_weight=None, vectorizer__ngram_range=(1, 1); total time=   3.8s\n",
      "[CV 1/4] END classifier__C=0.1, classifier__class_weight=None, vectorizer__ngram_range=(1, 2); total time=  13.1s\n",
      "[CV 2/4] END classifier__C=0.1, classifier__class_weight=None, vectorizer__ngram_range=(1, 2); total time=  15.7s\n",
      "[CV 3/4] END classifier__C=0.1, classifier__class_weight=None, vectorizer__ngram_range=(1, 2); total time=  14.9s\n",
      "[CV 4/4] END classifier__C=0.1, classifier__class_weight=None, vectorizer__ngram_range=(1, 2); total time=  12.4s\n",
      "[CV 1/4] END classifier__C=0.1, classifier__class_weight=balanced, vectorizer__ngram_range=(1, 1); total time=   3.8s\n",
      "[CV 2/4] END classifier__C=0.1, classifier__class_weight=balanced, vectorizer__ngram_range=(1, 1); total time=   4.1s\n",
      "[CV 3/4] END classifier__C=0.1, classifier__class_weight=balanced, vectorizer__ngram_range=(1, 1); total time=   3.0s\n",
      "[CV 4/4] END classifier__C=0.1, classifier__class_weight=balanced, vectorizer__ngram_range=(1, 1); total time=   2.5s\n",
      "[CV 1/4] END classifier__C=0.1, classifier__class_weight=balanced, vectorizer__ngram_range=(1, 2); total time=  12.9s\n",
      "[CV 2/4] END classifier__C=0.1, classifier__class_weight=balanced, vectorizer__ngram_range=(1, 2); total time=  11.7s\n",
      "[CV 3/4] END classifier__C=0.1, classifier__class_weight=balanced, vectorizer__ngram_range=(1, 2); total time=  11.0s\n",
      "[CV 4/4] END classifier__C=0.1, classifier__class_weight=balanced, vectorizer__ngram_range=(1, 2); total time=   9.0s\n",
      "[CV 1/4] END classifier__C=0.01, classifier__class_weight=None, vectorizer__ngram_range=(1, 1); total time=   3.6s\n",
      "[CV 2/4] END classifier__C=0.01, classifier__class_weight=None, vectorizer__ngram_range=(1, 1); total time=   4.6s\n",
      "[CV 3/4] END classifier__C=0.01, classifier__class_weight=None, vectorizer__ngram_range=(1, 1); total time=   4.5s\n",
      "[CV 4/4] END classifier__C=0.01, classifier__class_weight=None, vectorizer__ngram_range=(1, 1); total time=   3.9s\n",
      "[CV 1/4] END classifier__C=0.01, classifier__class_weight=None, vectorizer__ngram_range=(1, 2); total time=  15.7s\n",
      "[CV 2/4] END classifier__C=0.01, classifier__class_weight=None, vectorizer__ngram_range=(1, 2); total time=  18.2s\n",
      "[CV 3/4] END classifier__C=0.01, classifier__class_weight=None, vectorizer__ngram_range=(1, 2); total time=  16.9s\n",
      "[CV 4/4] END classifier__C=0.01, classifier__class_weight=None, vectorizer__ngram_range=(1, 2); total time=  12.7s\n",
      "[CV 1/4] END classifier__C=0.01, classifier__class_weight=balanced, vectorizer__ngram_range=(1, 1); total time=   1.8s\n",
      "[CV 2/4] END classifier__C=0.01, classifier__class_weight=balanced, vectorizer__ngram_range=(1, 1); total time=   1.8s\n",
      "[CV 3/4] END classifier__C=0.01, classifier__class_weight=balanced, vectorizer__ngram_range=(1, 1); total time=   1.7s\n",
      "[CV 4/4] END classifier__C=0.01, classifier__class_weight=balanced, vectorizer__ngram_range=(1, 1); total time=   1.5s\n",
      "[CV 1/4] END classifier__C=0.01, classifier__class_weight=balanced, vectorizer__ngram_range=(1, 2); total time=   7.3s\n",
      "[CV 2/4] END classifier__C=0.01, classifier__class_weight=balanced, vectorizer__ngram_range=(1, 2); total time=   6.6s\n",
      "[CV 3/4] END classifier__C=0.01, classifier__class_weight=balanced, vectorizer__ngram_range=(1, 2); total time=   6.8s\n",
      "[CV 4/4] END classifier__C=0.01, classifier__class_weight=balanced, vectorizer__ngram_range=(1, 2); total time=   5.1s\n"
     ]
    },
    {
     "data": {
      "text/plain": [
       "GridSearchCV(cv=4,\n",
       "             estimator=Pipeline(steps=[('vectorizer', CountVectorizer()),\n",
       "                                       ('classifier', LogisticRegression())]),\n",
       "             param_grid={'classifier__C': [1, 0.1, 0.01],\n",
       "                         'classifier__class_weight': [None, 'balanced'],\n",
       "                         'vectorizer__ngram_range': [(1, 1), (1, 2)]},\n",
       "             verbose=4)"
      ]
     },
     "execution_count": 43,
     "metadata": {},
     "output_type": "execute_result"
    }
   ],
   "source": [
    "# Using questions and answers with Logistic Regression choosing ngram with validation set (with counts instead of tf-idf)\n",
    "X_train, y_train, X_test, y_test = featSel_QA(train_data, test_data)\n",
    "    \n",
    "# pipeline tokenization & model to apply cross-validation\n",
    "pipeline = Pipeline([\n",
    "    ('vectorizer', CountVectorizer()),\n",
    "    ('classifier', LogisticRegression())\n",
    "])\n",
    "\n",
    "# cross-validation with grid of parameters\n",
    "param_grid =  {'vectorizer__ngram_range':[(1,1),(1,2)],\n",
    "               'classifier__C':[1, 0.1, 0.01],\n",
    "               'classifier__class_weight':[None, 'balanced']}\n",
    "\n",
    "model = GridSearchCV(pipeline, param_grid, cv=4, verbose=4)\n",
    "model.fit(X_train, y_train)"
   ]
  },
  {
   "cell_type": "code",
   "execution_count": 44,
   "id": "a443a99d",
   "metadata": {},
   "outputs": [
    {
     "data": {
      "text/plain": [
       "{'classifier__C': 1,\n",
       " 'classifier__class_weight': 'balanced',\n",
       " 'vectorizer__ngram_range': (1, 1)}"
      ]
     },
     "execution_count": 44,
     "metadata": {},
     "output_type": "execute_result"
    }
   ],
   "source": [
    "model.best_params_"
   ]
  },
  {
   "cell_type": "code",
   "execution_count": 45,
   "id": "0308804d",
   "metadata": {},
   "outputs": [
    {
     "data": {
      "text/plain": [
       "0.752957254013592"
      ]
     },
     "execution_count": 45,
     "metadata": {},
     "output_type": "execute_result"
    }
   ],
   "source": [
    "model.best_score_"
   ]
  },
  {
   "cell_type": "markdown",
   "id": "5ac115db",
   "metadata": {},
   "source": [
    "Here although we seem to be overfitting the training data, increasing the regularization parameter does not yeld better results. Still, balancing the weights of each class (giving stronger weights to less seen classes) increase the performance, which makes sense since we have some classes that have very few samples but we still want to be able to predict them (works a bit as a gradient boosting). Also, since we have a lot of classes and some have very few examples, cross-validation is not as reliable as if we had fewer classes with more examples"
   ]
  },
  {
   "cell_type": "code",
   "execution_count": 46,
   "id": "ba01b74b",
   "metadata": {},
   "outputs": [
    {
     "name": "stdout",
     "output_type": "stream",
     "text": [
      "Train Accuracy: 0.9971163088753605\n",
      "Test Accuracy: 0.9036544850498339\n"
     ]
    }
   ],
   "source": [
    "# Using questions and answers\n",
    "X_train, y_train, X_test, y_test = featSel_QA(train_data, test_data)\n",
    "X_train_vec, X_test_vec = preprocess_2(X_train, y_train, X_test, y_test)\n",
    "model, y_pred = model_LogReg(X_train_vec, y_train, X_test_vec, y_test, C=1, class_weight='balanced', accuracy=False)\n",
    "\n",
    "# predict train & test labels\n",
    "y_train_pred = model.predict(X_train_vec)\n",
    "\n",
    "# compute accuracies\n",
    "print(\"Train Accuracy:\", accuracy_score(y_train, y_train_pred))\n",
    "print(\"Test Accuracy:\", accuracy_score(y_test, y_pred))"
   ]
  },
  {
   "cell_type": "markdown",
   "id": "de01f5ce",
   "metadata": {},
   "source": [
    "# Changing Article Titles"
   ]
  },
  {
   "cell_type": "code",
   "execution_count": 18,
   "id": "1991a32c",
   "metadata": {},
   "outputs": [
    {
     "data": {
      "text/plain": [
       "['Alessandro_Volta',\n",
       " 'Amedeo_Avogadro',\n",
       " 'Ant',\n",
       " 'Antwerp',\n",
       " 'Arabic_language',\n",
       " 'Berlin',\n",
       " 'Blaise_Pascal',\n",
       " 'Butterfly',\n",
       " 'Charles-Augustin_de_Coulomb',\n",
       " 'Chinese_language',\n",
       " 'Cougar',\n",
       " 'Cymbal',\n",
       " 'Dragonfly',\n",
       " 'Drum',\n",
       " 'Eel',\n",
       " 'Finnish_language',\n",
       " 'Flute',\n",
       " 'Giant_Panda',\n",
       " 'Guitar',\n",
       " 'Henri_Becquerel',\n",
       " 'Isaac_Newton',\n",
       " 'Jackson_Pollock',\n",
       " 'Jakarta',\n",
       " 'James_Watt',\n",
       " 'Korean_language',\n",
       " 'Kuala_Lumpur',\n",
       " 'Leonardo_da_Vinci',\n",
       " 'Lobster',\n",
       " 'Lyre',\n",
       " 'Malay_language',\n",
       " 'Melbourne',\n",
       " 'Michael_Faraday',\n",
       " 'Michelangelo',\n",
       " 'Montreal',\n",
       " 'Nairobi',\n",
       " 'Nikola_Tesla',\n",
       " 'Norman_Rockwell',\n",
       " 'Octopus',\n",
       " 'Pablo_Picasso',\n",
       " 'Piano',\n",
       " 'Pierre-Auguste_Renoir',\n",
       " 'Portuguese_language',\n",
       " 'Saint_Petersburg',\n",
       " 'San_Francisco',\n",
       " 'Swahili_language',\n",
       " 'Swedish_language',\n",
       " 'Taipei',\n",
       " 'Trumpet',\n",
       " 'Turkish_language',\n",
       " 'Vietnamese_language',\n",
       " 'Vincent_van_Gogh',\n",
       " 'Violin',\n",
       " 'Xylophone',\n",
       " 'Zebra',\n",
       " 'Anders_Celsius',\n",
       " 'Bee',\n",
       " 'Beijing',\n",
       " 'Cello',\n",
       " 'Copenhagen',\n",
       " 'Dhaka',\n",
       " 'English_language',\n",
       " 'Fox',\n",
       " 'French_language',\n",
       " 'German_language',\n",
       " 'Giraffe',\n",
       " 'Italian_language',\n",
       " 'Japanese_language',\n",
       " 'Lima',\n",
       " 'London',\n",
       " 'Nassau',\n",
       " 'Ottawa',\n",
       " 'Otter',\n",
       " 'Santiago',\n",
       " 'Spanish_language',\n",
       " 'Swan',\n",
       " 'Tiger',\n",
       " 'Turtle',\n",
       " 'Abraham_Lincoln',\n",
       " 'beetle',\n",
       " 'Calvin_Coolidge',\n",
       " 'Canada',\n",
       " 'duck',\n",
       " 'Egypt',\n",
       " 'elephant',\n",
       " 'Finland',\n",
       " 'Gerald_Ford',\n",
       " 'Ghana',\n",
       " 'Gray_Wolf',\n",
       " 'Grover_Cleveland',\n",
       " 'Indonesia',\n",
       " 'James_Monroe',\n",
       " 'John_Adams',\n",
       " 'kangaroo',\n",
       " 'leopard',\n",
       " 'Liechtenstein',\n",
       " 'Millard_Fillmore',\n",
       " 'otter',\n",
       " 'penguin',\n",
       " 'polar_bear',\n",
       " 'Qatar',\n",
       " 'Romania',\n",
       " 'Singapore',\n",
       " 'Theodore_Roosevelt',\n",
       " 'turtle',\n",
       " 'Ulysses_S._Grant',\n",
       " 'Uruguay',\n",
       " 'Woodrow_Wilson']"
      ]
     },
     "execution_count": 18,
     "metadata": {},
     "output_type": "execute_result"
    }
   ],
   "source": [
    "test_data['ArticleTitle'].drop_duplicates().to_list()"
   ]
  },
  {
   "cell_type": "markdown",
   "id": "2a68aee7",
   "metadata": {},
   "source": [
    "It seems that article titles are separated by \"_\", thus it's probably easier for the algorithm if we split it into actual words, this way the target vector will be smaller and more related to the feature vector"
   ]
  },
  {
   "cell_type": "code",
   "execution_count": 49,
   "id": "808f9af8",
   "metadata": {},
   "outputs": [
    {
     "name": "stdout",
     "output_type": "stream",
     "text": [
      "Train Accuracy: 0.9971163088753605\n",
      "Test Accuracy: 0.9036544850498339\n"
     ]
    }
   ],
   "source": [
    "# Using the best model so far\n",
    "X_train, y_train, X_test, y_test = featSel_QA_splitArticlTitle(train_data, test_data)\n",
    "X_train_vec, X_test_vec = preprocess_2(X_train, y_train, X_test, y_test)\n",
    "model, y_pred = model_LogReg(X_train_vec, y_train, X_test_vec, y_test, class_weight='balanced', accuracy=False)\n",
    "\n",
    "# predict train & test labels\n",
    "y_train_pred = model.predict(X_train_vec)\n",
    "\n",
    "# compute accuracies\n",
    "print(\"Train Accuracy:\", accuracy_score(y_train, y_train_pred))\n",
    "print(\"Test Accuracy:\", accuracy_score(y_test, y_pred))"
   ]
  },
  {
   "cell_type": "markdown",
   "id": "722e326d",
   "metadata": {},
   "source": [
    "It doesn't seem to improve our results probably because we were already achieving a very good performance and we are not taking word context into consideration, but still let's continue using this approach of removing the underscore since it might be useful if we try other approaches where context (RNNs) and word meaning (word embbedings) are taken into account"
   ]
  },
  {
   "cell_type": "code",
   "execution_count": null,
   "id": "62e1724c",
   "metadata": {},
   "outputs": [],
   "source": []
  }
 ],
 "metadata": {
  "kernelspec": {
   "display_name": "Python 3",
   "language": "python",
   "name": "python3"
  },
  "language_info": {
   "codemirror_mode": {
    "name": "ipython",
    "version": 3
   },
   "file_extension": ".py",
   "mimetype": "text/x-python",
   "name": "python",
   "nbconvert_exporter": "python",
   "pygments_lexer": "ipython3",
   "version": "3.8.8"
  },
  "toc": {
   "base_numbering": 1,
   "nav_menu": {},
   "number_sections": true,
   "sideBar": true,
   "skip_h1_title": false,
   "title_cell": "Table of Contents",
   "title_sidebar": "Contents",
   "toc_cell": false,
   "toc_position": {
    "height": "calc(100% - 180px)",
    "left": "10px",
    "top": "150px",
    "width": "307.2px"
   },
   "toc_section_display": true,
   "toc_window_display": false
  }
 },
 "nbformat": 4,
 "nbformat_minor": 5
}
